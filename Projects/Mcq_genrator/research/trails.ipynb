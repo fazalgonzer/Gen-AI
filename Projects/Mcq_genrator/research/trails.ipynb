{
 "cells": [
  {
   "cell_type": "code",
   "execution_count": 1,
   "metadata": {},
   "outputs": [],
   "source": [
    "import os\n",
    "import json\n",
    "import pandas as  pd \n",
    "import traceback\n"
   ]
  },
  {
   "cell_type": "code",
   "execution_count": 2,
   "metadata": {},
   "outputs": [],
   "source": [
    "from langchain_groq import ChatGroq\n"
   ]
  },
  {
   "cell_type": "code",
   "execution_count": 3,
   "metadata": {},
   "outputs": [],
   "source": [
    "llm = ChatGroq(\n",
    "    groq_api_key=,\n",
    "    model_name=\"Llama3-8b-8192\"\n",
    ")\n"
   ]
  },
  {
   "cell_type": "code",
   "execution_count": 4,
   "metadata": {},
   "outputs": [
    {
     "data": {
      "text/plain": [
       "ChatGroq(client=<groq.resources.chat.completions.Completions object at 0x0000023AEA284B00>, async_client=<groq.resources.chat.completions.AsyncCompletions object at 0x0000023AEA285550>, model_name='Llama3-8b-8192', groq_api_key=SecretStr('**********'))"
      ]
     },
     "execution_count": 4,
     "metadata": {},
     "output_type": "execute_result"
    }
   ],
   "source": [
    "llm"
   ]
  },
  {
   "cell_type": "markdown",
   "metadata": {},
   "source": [
    "for mcq generation ew have to design Input adn Output Prompt"
   ]
  },
  {
   "cell_type": "code",
   "execution_count": 5,
   "metadata": {},
   "outputs": [],
   "source": [
    "Template=\"\"\"\n",
    "Text:{text}\n",
    "Your are an expert MCQ maker. Given above text, it is your job to \\\n",
    "create a quiz of {number} multiple choice questions for {subject} students in {tone} tone.\n",
    "Make sure the question are not repeated and check all the questions to be conforming the text as well.\n",
    "Make sure to format your response like RESPONSE_JSON and use it as guide. \\\n",
    "Ensure to make {number} MCQs\n",
    "### RESPONSE_JSON\n",
    "{response_json}\n",
    "\n",
    "\"\"\""
   ]
  },
  {
   "cell_type": "code",
   "execution_count": 7,
   "metadata": {},
   "outputs": [],
   "source": [
    "RESPONSE_JSON={\n",
    "     \"1\":{\n",
    "         \"mcq\": \"multiple choice question\",\n",
    "         \"options\":{\n",
    "             \"a\":\"choice here\",\n",
    "             \"b\":\"choice here\",\n",
    "             \"c\":\"choice here\",\n",
    "             \"d\":\"choice here\",\n",
    "         },\n",
    "         \"correct\":\"correct answer\",\n",
    "         \n",
    "     },\n",
    "\n",
    "     \"2\":{\n",
    "         \"mcq\": \"multiple choice question\",\n",
    "         \"options\":{\n",
    "             \"a\":\"choice here\",\n",
    "             \"b\":\"choice here\",\n",
    "             \"c\":\"choice here\",\n",
    "             \"d\":\"choice here\",\n",
    "         },\n",
    "         \"correct\":\"correct answer\",\n",
    "         \n",
    "     },\n",
    "     \"3\":{\n",
    "         \"mcq\": \"multiple choice question\",\n",
    "         \"options\":{\n",
    "             \"a\":\"choice here\",\n",
    "             \"b\":\"choice here\",\n",
    "             \"c\":\"choice here\",\n",
    "             \"d\":\"choice here\",\n",
    "         },\n",
    "         \"correct\":\"correct answer\",\n",
    "         \n",
    "     }\n",
    "\n",
    "\n",
    "\n",
    "}"
   ]
  },
  {
   "cell_type": "code",
   "execution_count": 10,
   "metadata": {},
   "outputs": [],
   "source": [
    "from langchain.prompts import PromptTemplate\n",
    "from langchain.chains import LLMChain"
   ]
  },
  {
   "cell_type": "code",
   "execution_count": 11,
   "metadata": {},
   "outputs": [],
   "source": [
    "quiz_generation_prompt=PromptTemplate(\n",
    "         input_variables=[\"text\",\"number\",\"subject\",\"tone\",\"response_json\"],\n",
    "         template=Template\n",
    "\n",
    "\n",
    ")"
   ]
  },
  {
   "cell_type": "code",
   "execution_count": 12,
   "metadata": {},
   "outputs": [
    {
     "name": "stderr",
     "output_type": "stream",
     "text": [
      "d:\\LangChain\\Chatbot\\chatbotLLm\\Lib\\site-packages\\langchain_core\\_api\\deprecation.py:119: LangChainDeprecationWarning: The class `LLMChain` was deprecated in LangChain 0.1.17 and will be removed in 0.3.0. Use RunnableSequence, e.g., `prompt | llm` instead.\n",
      "  warn_deprecated(\n"
     ]
    }
   ],
   "source": [
    "quiz_chain=LLMChain(llm=llm,prompt=quiz_generation_prompt,output_key=\"quiz\",verbose=True)"
   ]
  },
  {
   "cell_type": "code",
   "execution_count": 13,
   "metadata": {},
   "outputs": [],
   "source": [
    "Template2=\"\"\"\n",
    "You are an expert english grammarian and writer . Given a Multiple Choice Quiz for {subject} students. \\\n",
    "You need to evaluate the complexity of the question and a give a complete anaylsis of the quiz .Only use at max 50 words for a complexity\n",
    "if the quiz is not at per with the cognitive and analytical abibilities of the student ,\\\n",
    "update the quiz questions which needs to be changed and change the tone such that it perfectly fits the student abilities.\n",
    "Quiz_MCQs:\n",
    "{quiz}\n",
    "Check from an expert English Writer of the above quiz :\n",
    "\"\"\""
   ]
  },
  {
   "cell_type": "code",
   "execution_count": 14,
   "metadata": {},
   "outputs": [],
   "source": [
    "quiz_evaluation_prompt=PromptTemplate(input_variables=[\"subject\",\"quiz\"], template=Template2)"
   ]
  },
  {
   "cell_type": "code",
   "execution_count": 15,
   "metadata": {},
   "outputs": [],
   "source": [
    "Eval_chain=LLMChain(llm=llm,prompt=quiz_evaluation_prompt,output_key=\"review\", verbose=True)"
   ]
  },
  {
   "cell_type": "code",
   "execution_count": 16,
   "metadata": {},
   "outputs": [],
   "source": [
    "from langchain.chains import SequentialChain\n",
    "generate_chain=SequentialChain(chains=[quiz_chain,Eval_chain], input_variables=[\"text\",\"number\",\"subject\",\"tone\",\"response_json\"],output_variables=[\"quiz\",\"review\"]\n",
    "                               ,verbose=True)"
   ]
  },
  {
   "cell_type": "code",
   "execution_count": 21,
   "metadata": {},
   "outputs": [
    {
     "data": {
      "text/plain": [
       "'d:\\\\Gen AI\\\\Projects\\\\Mcq_genrator'"
      ]
     },
     "execution_count": 21,
     "metadata": {},
     "output_type": "execute_result"
    }
   ],
   "source": [
    "%pwd\n",
    "#os.chdir(\"../\")"
   ]
  },
  {
   "cell_type": "code",
   "execution_count": 34,
   "metadata": {},
   "outputs": [],
   "source": [
    "with open('data.txt', 'r') as file:\n",
    "    text=file.read()"
   ]
  },
  {
   "cell_type": "code",
   "execution_count": 23,
   "metadata": {},
   "outputs": [
    {
     "data": {
      "text/plain": [
       "'{\"1\": {\"mcq\": \"multiple choice question\", \"options\": {\"a\": \"choice here\", \"b\": \"choice here\", \"c\": \"choice here\", \"d\": \"choice here\"}, \"correct\": \"correct answer\"}, \"2\": {\"mcq\": \"multiple choice question\", \"options\": {\"a\": \"choice here\", \"b\": \"choice here\", \"c\": \"choice here\", \"d\": \"choice here\"}, \"correct\": \"correct answer\"}, \"3\": {\"mcq\": \"multiple choice question\", \"options\": {\"a\": \"choice here\", \"b\": \"choice here\", \"c\": \"choice here\", \"d\": \"choice here\"}, \"correct\": \"correct answer\"}}'"
      ]
     },
     "execution_count": 23,
     "metadata": {},
     "output_type": "execute_result"
    }
   ],
   "source": [
    "json.dumps(RESPONSE_JSON)"
   ]
  },
  {
   "cell_type": "code",
   "execution_count": 24,
   "metadata": {},
   "outputs": [
    {
     "name": "stderr",
     "output_type": "stream",
     "text": [
      "d:\\LangChain\\Chatbot\\chatbotLLm\\Lib\\site-packages\\langchain_core\\_api\\deprecation.py:119: LangChainDeprecationWarning: The method `Chain.__call__` was deprecated in langchain 0.1.0 and will be removed in 0.3.0. Use invoke instead.\n",
      "  warn_deprecated(\n"
     ]
    },
    {
     "name": "stdout",
     "output_type": "stream",
     "text": [
      "\n",
      "\n",
      "\u001b[1m> Entering new SequentialChain chain...\u001b[0m\n",
      "\n",
      "\n",
      "\u001b[1m> Entering new LLMChain chain...\u001b[0m\n",
      "Prompt after formatting:\n",
      "\u001b[32;1m\u001b[1;3m\n",
      "Text:Deep learning is the subset of machine learning methods based on neural networks with representation learning. The adjective \"deep\" refers to the use of multiple layers in the network. Methods used can be either supervised, semi-supervised or unsupervised.[2]\n",
      "\n",
      "Deep-learning architectures such as deep neural networks, deep belief networks, recurrent neural networks, convolutional neural networks and transformers have been applied to fields including computer vision, speech recognition, natural language processing, machine translation, bioinformatics, drug design, medical image analysis, climate science, material inspection and board game programs, where they have produced results comparable to and in some cases surpassing human expert performance.[3][4][5]\n",
      "\n",
      "Early forms of neural networks were inspired by information processing and distributed communication nodes in biological systems, in particular the human brain. However, current neural networks do not intend to model the brain function of organisms, and are generally seen as low quality models for that purpose.[6]\n",
      "\n",
      "Overview\n",
      "Most modern deep learning models are based on multi-layered neural networks such as convolutional neural networks and transformers, although they can also include propositional formulas or latent variables organized layer-wise in deep generative models such as the nodes in deep belief networks and deep Boltzmann machines.[7]\n",
      "\n",
      "Fundamentally, deep learning refers to a class of machine learning algorithms in which a hierarchy of layers is used to transform input data into a slightly more abstract and composite representation. For example, in an image recognition model, the raw input may be an image (represented as a tensor of pixels). The first representational layer may attempt to identify basic shapes such as lines and circles, the second layer may compose and encode arrangements of edges, the third layer may encode a nose and eyes, and the fourth layer may recognize that the image contains a face.\n",
      "\n",
      "Importantly, a deep learning process can learn which features to optimally place in which level on its own. Prior to deep learning, machine learning techniques often involved hand-crafted feature engineering to transform the data into a more suitable representation for a classification algorithm to operate upon. In the deep learning approach, features are not hand-crafted and the model discovers useful feature representations from the data automatically. This does not eliminate the need for hand-tuning; for example, varying numbers of layers and layer sizes can provide different degrees of abstraction.[8][2]\n",
      "\n",
      "The word \"deep\" in \"deep learning\" refers to the number of layers through which the data is transformed. More precisely, deep learning systems have a substantial credit assignment path (CAP) depth. The CAP is the chain of transformations from input to output. CAPs describe potentially causal connections between input and output. For a feedforward neural network, the depth of the CAPs is that of the network and is the number of hidden layers plus one (as the output layer is also parameterized). For recurrent neural networks, in which a signal may propagate through a layer more than once, the CAP depth is potentially unlimited.[9] No universally agreed-upon threshold of depth divides shallow learning from deep learning, but most researchers agree that deep learning involves CAP depth higher than 2. CAP of depth 2 has been shown to be a universal approximator in the sense that it can emulate any function.[10] Beyond that, more layers do not add to the function approximator ability of the network. Deep models (CAP > 2) are able to extract better features than shallow models and hence, extra layers help in learning the features effectively.\n",
      "\n",
      "Deep learning architectures can be constructed with a greedy layer-by-layer method.[11] Deep learning helps to disentangle these abstractions and pick out which features improve performance.[8]\n",
      "\n",
      "Deep learning algorithms can be applied to unsupervised learning tasks. This is an important benefit because unlabeled data are more abundant than the labeled data. Examples of deep structures that can be trained in an unsupervised manner are deep belief networks.[8][12]\n",
      "Your are an expert MCQ maker. Given above text, it is your job to create a quiz of 5 multiple choice questions for deep learning students in simple tone.\n",
      "Make sure the question are not repeated and check all the questions to be conforming the text as well.\n",
      "Make sure to format your response like RESPONSE_JSON and use it as guide. Ensure to make 5 MCQs\n",
      "### RESPONSE_JSON\n",
      "{\"1\": {\"mcq\": \"multiple choice question\", \"options\": {\"a\": \"choice here\", \"b\": \"choice here\", \"c\": \"choice here\", \"d\": \"choice here\"}, \"correct\": \"correct answer\"}, \"2\": {\"mcq\": \"multiple choice question\", \"options\": {\"a\": \"choice here\", \"b\": \"choice here\", \"c\": \"choice here\", \"d\": \"choice here\"}, \"correct\": \"correct answer\"}, \"3\": {\"mcq\": \"multiple choice question\", \"options\": {\"a\": \"choice here\", \"b\": \"choice here\", \"c\": \"choice here\", \"d\": \"choice here\"}, \"correct\": \"correct answer\"}}\n",
      "\n",
      "\u001b[0m\n",
      "\n",
      "\u001b[1m> Finished chain.\u001b[0m\n",
      "\n",
      "\n",
      "\u001b[1m> Entering new LLMChain chain...\u001b[0m\n",
      "Prompt after formatting:\n",
      "\u001b[32;1m\u001b[1;3m\n",
      "You are an expert english grammarian and writer . Given a Multiple Choice Quiz for deep learning students. You need to evaluate the complexity of the question and a give a complete anaylsis of the quiz .Only use at max 50 words for a complexity\n",
      "if the quiz is not at per with the cognitive and analytical abibilities of the student ,update the quiz questions which needs to be changed and change the tone such that it perfectly fits the student abilities.\n",
      "Quiz_MCQs:\n",
      "Here are 5 MCQs on Deep Learning:\n",
      "\n",
      "{\n",
      "\"1\": {\n",
      "\"mcq\": \"What does the adjective 'deep' refer to in Deep Learning?\",\n",
      "\"options\": {\n",
      "\"a\": \"The type of machine learning algorithm used\",\n",
      "\"b\": \"The number of layers in the network\",\n",
      "\"c\": \"The complexity of the neural network\",\n",
      "\"d\": \"The input data used\"\n",
      "},\n",
      "\"correct\": \"b\"\n",
      "},\n",
      "\n",
      "\"2\": {\n",
      "\"mcq\": \"What is the key difference between Deep Learning and traditional Machine Learning?\",\n",
      "\"options\": {\n",
      "\"a\": \"Deep Learning uses hand-crafted features\",\n",
      "\"b\": \"Deep Learning discovers features automatically\",\n",
      "\"c\": \"Deep Learning is only used for computer vision\",\n",
      "\"d\": \"Deep Learning is only used for natural language processing\"\n",
      "},\n",
      "\"correct\": \"b\"\n",
      "},\n",
      "\n",
      "\"3\": {\n",
      "\"mcq\": \"What is the term for the number of layers through which the data is transformed in a Deep Learning model?\",\n",
      "\"options\": {\n",
      "\"a\": \"Credit Assignment Path\",\n",
      "\"b\": \"Layer Depth\",\n",
      "\"c\": \"Feature Extraction\",\n",
      "\"d\": \"Neural Network Architecture\"\n",
      "},\n",
      "\"correct\": \"a\"\n",
      "},\n",
      "\n",
      "\"4\": {\n",
      "\"mcq\": \"What is an example of a Deep Learning architecture that can be trained in an unsupervised manner?\",\n",
      "\"options\": {\n",
      "\"a\": \"Convolutional Neural Networks\",\n",
      "\"b\": \"Recurrent Neural Networks\",\n",
      "\"c\": \"Deep Belief Networks\",\n",
      "\"d\": \"Transformers\"\n",
      "},\n",
      "\"correct\": \"c\"\n",
      "},\n",
      "\n",
      "\"5\": {\n",
      "\"mcq\": \"What is the minimum number of layers required to make a Deep Learning model?\",\n",
      "\"options\": {\n",
      "\"a\": \"1\",\n",
      "\"b\": \"2\",\n",
      "\"c\": \"3\",\n",
      "\"d\": \"4\"\n",
      "},\n",
      "\"correct\": \"b\"\n",
      "}\n",
      "}\n",
      "Check from an expert English Writer of the above quiz :\n",
      "\u001b[0m\n",
      "\n",
      "\u001b[1m> Finished chain.\u001b[0m\n",
      "\n",
      "\u001b[1m> Finished chain.\u001b[0m\n"
     ]
    }
   ],
   "source": [
    "response=generate_chain({\"text\":text,\"number\":5,\"subject\":\"deep learning\",\"tone\":\"simple\",\"response_json\":json.dumps(RESPONSE_JSON)})"
   ]
  },
  {
   "cell_type": "code",
   "execution_count": 30,
   "metadata": {},
   "outputs": [],
   "source": [
    "quiz=response.get(\"quiz\")"
   ]
  },
  {
   "cell_type": "code",
   "execution_count": 31,
   "metadata": {},
   "outputs": [
    {
     "data": {
      "text/plain": [
       "'Here are 5 MCQs on Deep Learning:\\n\\n{\\n\"1\": {\\n\"mcq\": \"What does the adjective \\'deep\\' refer to in Deep Learning?\",\\n\"options\": {\\n\"a\": \"The type of machine learning algorithm used\",\\n\"b\": \"The number of layers in the network\",\\n\"c\": \"The complexity of the neural network\",\\n\"d\": \"The input data used\"\\n},\\n\"correct\": \"b\"\\n},\\n\\n\"2\": {\\n\"mcq\": \"What is the key difference between Deep Learning and traditional Machine Learning?\",\\n\"options\": {\\n\"a\": \"Deep Learning uses hand-crafted features\",\\n\"b\": \"Deep Learning discovers features automatically\",\\n\"c\": \"Deep Learning is only used for computer vision\",\\n\"d\": \"Deep Learning is only used for natural language processing\"\\n},\\n\"correct\": \"b\"\\n},\\n\\n\"3\": {\\n\"mcq\": \"What is the term for the number of layers through which the data is transformed in a Deep Learning model?\",\\n\"options\": {\\n\"a\": \"Credit Assignment Path\",\\n\"b\": \"Layer Depth\",\\n\"c\": \"Feature Extraction\",\\n\"d\": \"Neural Network Architecture\"\\n},\\n\"correct\": \"a\"\\n},\\n\\n\"4\": {\\n\"mcq\": \"What is an example of a Deep Learning architecture that can be trained in an unsupervised manner?\",\\n\"options\": {\\n\"a\": \"Convolutional Neural Networks\",\\n\"b\": \"Recurrent Neural Networks\",\\n\"c\": \"Deep Belief Networks\",\\n\"d\": \"Transformers\"\\n},\\n\"correct\": \"c\"\\n},\\n\\n\"5\": {\\n\"mcq\": \"What is the minimum number of layers required to make a Deep Learning model?\",\\n\"options\": {\\n\"a\": \"1\",\\n\"b\": \"2\",\\n\"c\": \"3\",\\n\"d\": \"4\"\\n},\\n\"correct\": \"b\"\\n}\\n}'"
      ]
     },
     "execution_count": 31,
     "metadata": {},
     "output_type": "execute_result"
    }
   ],
   "source": [
    "quiz"
   ]
  },
  {
   "cell_type": "code",
   "execution_count": 33,
   "metadata": {},
   "outputs": [
    {
     "data": {
      "text/plain": [
       "'\"Here are 5 MCQs on Deep Learning:\\\\n\\\\n{\\\\n\\\\\"1\\\\\": {\\\\n\\\\\"mcq\\\\\": \\\\\"What does the adjective \\'deep\\' refer to in Deep Learning?\\\\\",\\\\n\\\\\"options\\\\\": {\\\\n\\\\\"a\\\\\": \\\\\"The type of machine learning algorithm used\\\\\",\\\\n\\\\\"b\\\\\": \\\\\"The number of layers in the network\\\\\",\\\\n\\\\\"c\\\\\": \\\\\"The complexity of the neural network\\\\\",\\\\n\\\\\"d\\\\\": \\\\\"The input data used\\\\\"\\\\n},\\\\n\\\\\"correct\\\\\": \\\\\"b\\\\\"\\\\n},\\\\n\\\\n\\\\\"2\\\\\": {\\\\n\\\\\"mcq\\\\\": \\\\\"What is the key difference between Deep Learning and traditional Machine Learning?\\\\\",\\\\n\\\\\"options\\\\\": {\\\\n\\\\\"a\\\\\": \\\\\"Deep Learning uses hand-crafted features\\\\\",\\\\n\\\\\"b\\\\\": \\\\\"Deep Learning discovers features automatically\\\\\",\\\\n\\\\\"c\\\\\": \\\\\"Deep Learning is only used for computer vision\\\\\",\\\\n\\\\\"d\\\\\": \\\\\"Deep Learning is only used for natural language processing\\\\\"\\\\n},\\\\n\\\\\"correct\\\\\": \\\\\"b\\\\\"\\\\n},\\\\n\\\\n\\\\\"3\\\\\": {\\\\n\\\\\"mcq\\\\\": \\\\\"What is the term for the number of layers through which the data is transformed in a Deep Learning model?\\\\\",\\\\n\\\\\"options\\\\\": {\\\\n\\\\\"a\\\\\": \\\\\"Credit Assignment Path\\\\\",\\\\n\\\\\"b\\\\\": \\\\\"Layer Depth\\\\\",\\\\n\\\\\"c\\\\\": \\\\\"Feature Extraction\\\\\",\\\\n\\\\\"d\\\\\": \\\\\"Neural Network Architecture\\\\\"\\\\n},\\\\n\\\\\"correct\\\\\": \\\\\"a\\\\\"\\\\n},\\\\n\\\\n\\\\\"4\\\\\": {\\\\n\\\\\"mcq\\\\\": \\\\\"What is an example of a Deep Learning architecture that can be trained in an unsupervised manner?\\\\\",\\\\n\\\\\"options\\\\\": {\\\\n\\\\\"a\\\\\": \\\\\"Convolutional Neural Networks\\\\\",\\\\n\\\\\"b\\\\\": \\\\\"Recurrent Neural Networks\\\\\",\\\\n\\\\\"c\\\\\": \\\\\"Deep Belief Networks\\\\\",\\\\n\\\\\"d\\\\\": \\\\\"Transformers\\\\\"\\\\n},\\\\n\\\\\"correct\\\\\": \\\\\"c\\\\\"\\\\n},\\\\n\\\\n\\\\\"5\\\\\": {\\\\n\\\\\"mcq\\\\\": \\\\\"What is the minimum number of layers required to make a Deep Learning model?\\\\\",\\\\n\\\\\"options\\\\\": {\\\\n\\\\\"a\\\\\": \\\\\"1\\\\\",\\\\n\\\\\"b\\\\\": \\\\\"2\\\\\",\\\\n\\\\\"c\\\\\": \\\\\"3\\\\\",\\\\n\\\\\"d\\\\\": \\\\\"4\\\\\"\\\\n},\\\\n\\\\\"correct\\\\\": \\\\\"b\\\\\"\\\\n}\\\\n}\"'"
      ]
     },
     "execution_count": 33,
     "metadata": {},
     "output_type": "execute_result"
    }
   ],
   "source": [
    "json.dumps(quiz)"
   ]
  },
  {
   "cell_type": "code",
   "execution_count": 35,
   "metadata": {},
   "outputs": [
    {
     "name": "stdout",
     "output_type": "stream",
     "text": [
      "\n",
      "\n",
      "\u001b[1m> Entering new SequentialChain chain...\u001b[0m\n",
      "\n",
      "\n",
      "\u001b[1m> Entering new LLMChain chain...\u001b[0m\n",
      "Prompt after formatting:\n",
      "\u001b[32;1m\u001b[1;3m\n",
      "Text:LinkedIn (/lɪŋktˈɪn/) is a business and employment-focused social media platform that works through websites and mobile apps. It was launched on May 5, 2003 by Reid Hoffman and Eric Ly.[6] Since December 2016, LinkedIn has been a wholly owned subsidiary of Microsoft.[7] The platform is primarily used for professional networking and career development, and allows jobseekers to post their CVs and employers to post jobs. From 2015, most of the company's revenue came from selling access to information about its members to recruiters and sales professionals.[8] LinkedIn has more than 1 billion registered members from over 200 countries and territories.[9]\n",
      "\n",
      "LinkedIn allows members (both workers and employers) to create profiles and connect with each other in an online social network which may represent real-world professional relationships. Members can invite anyone (whether an existing member or not) to become a connection. LinkedIn can also be used to organize offline events, join groups, write articles, publish job postings, post photos and videos, and more.[10]\n",
      "\n",
      "Company overview\n",
      "Founded in Mountain View, California, LinkedIn is currently headquartered in Sunnyvale, California, with 36 global offices as of February 11, 2024.[11][1] In February 2024, the company had around 18,500 employees.[12][6]\n",
      "\n",
      "LinkedIn's current CEO is Ryan Roslansky. Jeff Weiner, previously CEO of LinkedIn, is now serving as the Executive Chairman. Reid Hoffman, founder of LinkedIn, is chairman of the board.[13][14] It was funded by Sequoia Capital, Greylock, Bain Capital Ventures,[15] Bessemer Venture Partners and the European Founders Fund.[16] LinkedIn reached profitability in March 2006.[17] Since January 2011, the company had received a total of $103 million (about $138 million in 2023) of investment.[18] LinkedIn filed for an initial public offering in January 2011 and traded its first shares in May, under the NYSE symbol \"LNKD\".[19]\n",
      "\n",
      "History\n",
      "Founding from 2002 to 2011\n",
      "\n",
      "Former LinkedIn headquarters on Stierlin Court in Mountain View, California\n",
      "The company was founded in December 2002 by Reid Hoffman and the founding team members from PayPal and Socialnet.com (Allen Blue, Eric Ly, Jean-Luc Vaillant, Lee Hower, Konstantin Guericke, Stephen Beitzel, David Eves, Ian McNish, Yan Pujante, Chris Saccheri).[20] In late 2003, Sequoia Capital led the Series A investment in the company.[21] In August 2004, LinkedIn reached 1 million users.[22] In March 2006, LinkedIn achieved its first month of profitability.[22] In April 2007, LinkedIn reached 10 million users.[22] In February 2008, LinkedIn launched a mobile version of the site.[23]\n",
      "\n",
      "In June 2008, Sequoia Capital, Greylock Partners, and other venture capital firms purchased a 5% stake in the company for $53 million, giving the company a post-money valuation of approximately $1 billion.[24] In November 2009, LinkedIn opened its office in Mumbai[25] and soon thereafter in Sydney, as it started its Asia-Pacific team expansion. In 2010, LinkedIn opened an International Headquarters in Dublin, Ireland,[26] received a $20 million investment from Tiger Global Management LLC at a valuation of approximately $2 billion,[27] announced its first acquisition, Mspoke,[28] and improved its 1% premium subscription ratio.[29] In October of that year, Silicon Valley Insider ranked the company No. 10 on its Top 100 List of most valuable startups.[30] By December, the company was valued at $1.575 billion in private markets.[31] LinkedIn started its India operations in 2009 and a major part of the first year was dedicated to understanding professionals in India and educating members to leverage LinkedIn for career development\n",
      "Your are an expert MCQ maker. Given above text, it is your job to create a quiz of 5 multiple choice questions for Linkedin students in simple tone.\n",
      "Make sure the question are not repeated and check all the questions to be conforming the text as well.\n",
      "Make sure to format your response like RESPONSE_JSON and use it as guide. Ensure to make 5 MCQs\n",
      "### RESPONSE_JSON\n",
      "{\"1\": {\"mcq\": \"multiple choice question\", \"options\": {\"a\": \"choice here\", \"b\": \"choice here\", \"c\": \"choice here\", \"d\": \"choice here\"}, \"correct\": \"correct answer\"}, \"2\": {\"mcq\": \"multiple choice question\", \"options\": {\"a\": \"choice here\", \"b\": \"choice here\", \"c\": \"choice here\", \"d\": \"choice here\"}, \"correct\": \"correct answer\"}, \"3\": {\"mcq\": \"multiple choice question\", \"options\": {\"a\": \"choice here\", \"b\": \"choice here\", \"c\": \"choice here\", \"d\": \"choice here\"}, \"correct\": \"correct answer\"}}\n",
      "\n",
      "\u001b[0m\n",
      "\n",
      "\u001b[1m> Finished chain.\u001b[0m\n",
      "\n",
      "\n",
      "\u001b[1m> Entering new LLMChain chain...\u001b[0m\n",
      "Prompt after formatting:\n",
      "\u001b[32;1m\u001b[1;3m\n",
      "You are an expert english grammarian and writer . Given a Multiple Choice Quiz for Linkedin students. You need to evaluate the complexity of the question and a give a complete anaylsis of the quiz .Only use at max 50 words for a complexity\n",
      "if the quiz is not at per with the cognitive and analytical abibilities of the student ,update the quiz questions which needs to be changed and change the tone such that it perfectly fits the student abilities.\n",
      "Quiz_MCQs:\n",
      "Here are 5 multiple-choice questions for LinkedIn students in simple tone:\n",
      "\n",
      "{\"1\": {\"mcq\": \"What is LinkedIn's primary purpose?\", \n",
      "\"options\": {\"a\": \"To share personal updates\", \"b\": \"To network professionally\", \"c\": \"To sell products\", \"d\": \"To watch videos\"}, \n",
      "\"correct\": \"b\"}, \n",
      "\"2\": {\"mcq\": \"When was LinkedIn founded?\", \n",
      "\"options\": {\"a\": \"2002\", \"b\": \"2003\", \"c\": \"2006\", \"d\": \"2009\"}, \n",
      "\"correct\": \"b\"}, \n",
      "\"3\": {\"mcq\": \"What is the estimated number of LinkedIn users as of 2024?\", \n",
      "\"options\": {\"a\": \"500 million\", \"b\": \"1 billion\", \"c\": \"5 billion\", \"d\": \"10 billion\"}, \n",
      "\"correct\": \"b\"}, \n",
      "\"4\": {\"mcq\": \"Who is the current CEO of LinkedIn?\", \n",
      "\"options\": {\"a\": \"Reid Hoffman\", \"b\": \"Jeff Weiner\", \"c\": \"Ryan Roslansky\", \"d\": \"Eric Ly\"}, \n",
      "\"correct\": \"c\"}, \n",
      "\"5\": {\"mcq\": \"In what year did LinkedIn reach profitability?\", \n",
      "\"options\": {\"a\": \"2004\", \"b\": \"2006\", \"c\": \"2008\", \"d\": \"2011\"}, \n",
      "\"correct\": \"b\"}}\n",
      "\n",
      "Let me know if you need any changes!\n",
      "Check from an expert English Writer of the above quiz :\n",
      "\u001b[0m\n",
      "\n",
      "\u001b[1m> Finished chain.\u001b[0m\n",
      "\n",
      "\u001b[1m> Finished chain.\u001b[0m\n"
     ]
    }
   ],
   "source": [
    "response2=generate_chain({\"text\":text,\"number\":5,\"subject\":\"Linkedin\",\"tone\":\"simple\",\"response_json\":json.dumps(RESPONSE_JSON)})"
   ]
  },
  {
   "cell_type": "code",
   "execution_count": 36,
   "metadata": {},
   "outputs": [
    {
     "data": {
      "text/plain": [
       "'Here are 5 multiple-choice questions for LinkedIn students in simple tone:\\n\\n{\"1\": {\"mcq\": \"What is LinkedIn\\'s primary purpose?\", \\n\"options\": {\"a\": \"To share personal updates\", \"b\": \"To network professionally\", \"c\": \"To sell products\", \"d\": \"To watch videos\"}, \\n\"correct\": \"b\"}, \\n\"2\": {\"mcq\": \"When was LinkedIn founded?\", \\n\"options\": {\"a\": \"2002\", \"b\": \"2003\", \"c\": \"2006\", \"d\": \"2009\"}, \\n\"correct\": \"b\"}, \\n\"3\": {\"mcq\": \"What is the estimated number of LinkedIn users as of 2024?\", \\n\"options\": {\"a\": \"500 million\", \"b\": \"1 billion\", \"c\": \"5 billion\", \"d\": \"10 billion\"}, \\n\"correct\": \"b\"}, \\n\"4\": {\"mcq\": \"Who is the current CEO of LinkedIn?\", \\n\"options\": {\"a\": \"Reid Hoffman\", \"b\": \"Jeff Weiner\", \"c\": \"Ryan Roslansky\", \"d\": \"Eric Ly\"}, \\n\"correct\": \"c\"}, \\n\"5\": {\"mcq\": \"In what year did LinkedIn reach profitability?\", \\n\"options\": {\"a\": \"2004\", \"b\": \"2006\", \"c\": \"2008\", \"d\": \"2011\"}, \\n\"correct\": \"b\"}}\\n\\nLet me know if you need any changes!'"
      ]
     },
     "execution_count": 36,
     "metadata": {},
     "output_type": "execute_result"
    }
   ],
   "source": [
    "response2[\"quiz\"]"
   ]
  },
  {
   "cell_type": "code",
   "execution_count": null,
   "metadata": {},
   "outputs": [],
   "source": []
  }
 ],
 "metadata": {
  "kernelspec": {
   "display_name": "Python 3",
   "language": "python",
   "name": "python3"
  },
  "language_info": {
   "codemirror_mode": {
    "name": "ipython",
    "version": 3
   },
   "file_extension": ".py",
   "mimetype": "text/x-python",
   "name": "python",
   "nbconvert_exporter": "python",
   "pygments_lexer": "ipython3",
   "version": "3.12.0"
  }
 },
 "nbformat": 4,
 "nbformat_minor": 2
}
