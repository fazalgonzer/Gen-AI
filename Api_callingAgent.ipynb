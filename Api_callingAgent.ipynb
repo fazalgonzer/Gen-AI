{
 "cells": [
  {
   "cell_type": "code",
   "execution_count": 3,
   "metadata": {},
   "outputs": [],
   "source": [
    "from langchain.prompts import PromptTemplate\n",
    "\n",
    "from langchain_groq import ChatGroq"
   ]
  },
  {
   "cell_type": "code",
   "execution_count": 4,
   "metadata": {},
   "outputs": [],
   "source": [
    "llm = ChatGroq(groq_api_key=\"\", model_name=\"Llama3-8b-8192\")"
   ]
  },
  {
   "cell_type": "code",
   "execution_count": 7,
   "metadata": {},
   "outputs": [],
   "source": [
    "template=\"\"\"\n",
    " \n",
    "    \n",
    "   \n",
    "    what is the current gdp of pakistan?\n",
    "  \n",
    "\"\"\""
   ]
  },
  {
   "cell_type": "code",
   "execution_count": 8,
   "metadata": {},
   "outputs": [],
   "source": [
    "prompt=PromptTemplate.from_template(template)"
   ]
  },
  {
   "cell_type": "code",
   "execution_count": 9,
   "metadata": {},
   "outputs": [
    {
     "name": "stdout",
     "output_type": "stream",
     "text": [
      "As of 2021, the estimated GDP of Pakistan is approximately:\n",
      "\n",
      "* Nominal GDP: $276 billion (according to the World Bank)\n",
      "* PPP (Purchasing Power Parity) GDP: $1.14 trillion (according to the World Bank)\n",
      "\n",
      "Please note that these figures are subject to change and may vary slightly depending on the source and methodology used.\n"
     ]
    }
   ],
   "source": [
    "print(llm.predict(template).strip())"
   ]
  },
  {
   "cell_type": "markdown",
   "metadata": {},
   "source": [
    "Now itilizting the agent type in LLM "
   ]
  },
  {
   "cell_type": "code",
   "execution_count": 10,
   "metadata": {},
   "outputs": [],
   "source": [
    "from langchain.agents import AgentType\n",
    "from langchain.agents import load_tools\n",
    "from langchain.agents import initialize_agent\n"
   ]
  },
  {
   "cell_type": "code",
   "execution_count": 11,
   "metadata": {},
   "outputs": [
    {
     "name": "stdout",
     "output_type": "stream",
     "text": [
      "Requirement already satisfied: wikipedia in d:\\langchain\\chatbot\\chatbotllm\\lib\\site-packages (1.4.0)\n",
      "Requirement already satisfied: beautifulsoup4 in d:\\langchain\\chatbot\\chatbotllm\\lib\\site-packages (from wikipedia) (4.12.3)\n",
      "Requirement already satisfied: requests<3.0.0,>=2.0.0 in d:\\langchain\\chatbot\\chatbotllm\\lib\\site-packages (from wikipedia) (2.31.0)\n",
      "Requirement already satisfied: charset-normalizer<4,>=2 in d:\\langchain\\chatbot\\chatbotllm\\lib\\site-packages (from requests<3.0.0,>=2.0.0->wikipedia) (3.3.2)\n",
      "Requirement already satisfied: idna<4,>=2.5 in d:\\langchain\\chatbot\\chatbotllm\\lib\\site-packages (from requests<3.0.0,>=2.0.0->wikipedia) (3.7)\n",
      "Requirement already satisfied: urllib3<3,>=1.21.1 in d:\\langchain\\chatbot\\chatbotllm\\lib\\site-packages (from requests<3.0.0,>=2.0.0->wikipedia) (2.2.1)\n",
      "Requirement already satisfied: certifi>=2017.4.17 in d:\\langchain\\chatbot\\chatbotllm\\lib\\site-packages (from requests<3.0.0,>=2.0.0->wikipedia) (2024.6.2)\n",
      "Requirement already satisfied: soupsieve>1.2 in d:\\langchain\\chatbot\\chatbotllm\\lib\\site-packages (from beautifulsoup4->wikipedia) (2.5)\n"
     ]
    }
   ],
   "source": [
    "!pip install wikipedia"
   ]
  },
  {
   "cell_type": "code",
   "execution_count": 16,
   "metadata": {},
   "outputs": [],
   "source": [
    "tool=load_tools([\"wikipedia\"],llm=llm)"
   ]
  },
  {
   "cell_type": "markdown",
   "metadata": {},
   "source": [
    "Agent type zero shot react type description  agent intilizatuion defaul type "
   ]
  },
  {
   "cell_type": "code",
   "execution_count": 17,
   "metadata": {},
   "outputs": [
    {
     "name": "stderr",
     "output_type": "stream",
     "text": [
      "d:\\LangChain\\Chatbot\\chatbotLLm\\Lib\\site-packages\\langchain_core\\_api\\deprecation.py:119: LangChainDeprecationWarning: The function `initialize_agent` was deprecated in LangChain 0.1.0 and will be removed in 0.3.0. Use Use new agent constructor methods like create_react_agent, create_json_agent, create_structured_chat_agent, etc. instead.\n",
      "  warn_deprecated(\n"
     ]
    }
   ],
   "source": [
    "agent=initialize_agent(tool,llm,agent=AgentType.ZERO_SHOT_REACT_DESCRIPTION,verbos=True)"
   ]
  },
  {
   "cell_type": "code",
   "execution_count": 18,
   "metadata": {},
   "outputs": [
    {
     "name": "stderr",
     "output_type": "stream",
     "text": [
      "d:\\LangChain\\Chatbot\\chatbotLLm\\Lib\\site-packages\\langchain_core\\_api\\deprecation.py:119: LangChainDeprecationWarning: The method `Chain.run` was deprecated in langchain 0.1.0 and will be removed in 0.3.0. Use invoke instead.\n",
      "  warn_deprecated(\n"
     ]
    },
    {
     "data": {
      "text/plain": [
       "'The current loan information of Pakistan is that it is accumulating Rs14 billion in loans daily to meet its expenses, resulting in a rise in both its domestic and external debt, which now stands at $28 billion.'"
      ]
     },
     "execution_count": 18,
     "metadata": {},
     "output_type": "execute_result"
    }
   ],
   "source": [
    "agent.run(\"tell me curent loan of PAkistan\")"
   ]
  },
  {
   "cell_type": "code",
   "execution_count": 19,
   "metadata": {},
   "outputs": [
    {
     "data": {
      "text/plain": [
       "'The International Monetary Fund (IMF) has provided financial assistance to Pakistan to address its economic challenges, including a balance of payments crisis, high debt levels, and a large trade deficit. The IMF has also provided policy advice to the Pakistani government to address these challenges, including implementing fiscal discipline, reducing government spending, and increasing tax revenues.'"
      ]
     },
     "execution_count": 19,
     "metadata": {},
     "output_type": "execute_result"
    }
   ],
   "source": [
    "agent.run(\"Imf condition on PAkistan\")"
   ]
  },
  {
   "cell_type": "markdown",
   "metadata": {},
   "source": [
    "Agent are working as another thing making connection iwth llm and realtime info with using wikipdia\n"
   ]
  },
  {
   "cell_type": "markdown",
   "metadata": {},
   "source": [
    "Chains \n",
    "Combining other llms ith eternam other llm or other APi"
   ]
  },
  {
   "cell_type": "code",
   "execution_count": 20,
   "metadata": {},
   "outputs": [],
   "source": [
    "from langchain.chains import LLMChain\n"
   ]
  },
  {
   "cell_type": "code",
   "execution_count": 22,
   "metadata": {},
   "outputs": [],
   "source": [
    "template=\"\"\"Tell me a good points about this {product} \"\"\"\n",
    "\n"
   ]
  },
  {
   "cell_type": "code",
   "execution_count": 23,
   "metadata": {},
   "outputs": [],
   "source": [
    "prompt=PromptTemplate.from_template(template)"
   ]
  },
  {
   "cell_type": "code",
   "execution_count": 25,
   "metadata": {},
   "outputs": [],
   "source": [
    "chain=LLMChain(llm=llm,prompt=prompt)"
   ]
  },
  {
   "cell_type": "code",
   "execution_count": 26,
   "metadata": {},
   "outputs": [
    {
     "data": {
      "text/plain": [
       "\"I'd be happy to tell you some good points about AI bots!\\n\\nHere are a few:\\n\\n1. **Automation**: AI bots can automate repetitive and mundane tasks, freeing up human employees to focus on more complex and creative work.\\n\\n2. **Speed and Efficiency**: AI bots can process information and complete tasks much faster and more accurately than humans, making them ideal for tasks that require speed and precision.\\n\\n3. **24/7 Availability**: AI bots can operate around the clock, without breaks or time off, making them perfect for industries that require continuous monitoring or support.\\n\\n4. **Personalization**: AI bots can be programmed to provide personalized experiences for customers, such as recommending products or services based on their interests and preferences.\\n\\n5. **Cost Savings**: AI bots can help reduce costs by minimizing the need for human labor, reducing errors, and improving productivity.\\n\\n6. **Customer Service**: AI bots can be used to provide customer support 24/7, answering common questions, and helping to resolve issues quickly and efficiently.\\n\\n7. **Data Collection and Analysis**: AI bots can collect and analyze large amounts of data, helping businesses make data-driven decisions and identify trends and patterns.\\n\\n8. **Improved Accuracy**: AI bots can perform tasks with high accuracy, reducing the risk of human error and improving overall quality.\\n\\n9. **Scalability**: AI bots can be scaled up or down as needed, making them ideal for businesses that experience fluctuations in demand.\\n\\n10. **Continuous Learning**: AI bots can learn and improve over time, adapting to new situations and tasks, and becoming more effective and efficient as they go.\\n\\nThese are just a few of the many benefits of AI bots. Do you have any specific questions or areas of interest you'd like to know more about?\""
      ]
     },
     "execution_count": 26,
     "metadata": {},
     "output_type": "execute_result"
    }
   ],
   "source": [
    "chain.run(\"AI bots\").strip()"
   ]
  },
  {
   "cell_type": "markdown",
   "metadata": {},
   "source": [
    "Example2"
   ]
  },
  {
   "cell_type": "code",
   "execution_count": 31,
   "metadata": {},
   "outputs": [],
   "source": [
    "prompt1=PromptTemplate(\n",
    "    input_variables=[\"company\"],\n",
    "    template=\"i want to pen a business of a {company} suggest a name for this\"\n",
    ")"
   ]
  },
  {
   "cell_type": "code",
   "execution_count": 28,
   "metadata": {},
   "outputs": [
    {
     "data": {
      "text/plain": [
       "PromptTemplate(input_variables=['company'], template='i want to pen a business of a {company} suggest a name for this')"
      ]
     },
     "execution_count": 28,
     "metadata": {},
     "output_type": "execute_result"
    }
   ],
   "source": [
    "prompt"
   ]
  },
  {
   "cell_type": "code",
   "execution_count": 46,
   "metadata": {},
   "outputs": [],
   "source": [
    "chain1=LLMChain(llm=llm,prompt=prompt,output_key=\"name\") "
   ]
  },
  {
   "cell_type": "code",
   "execution_count": 30,
   "metadata": {},
   "outputs": [
    {
     "data": {
      "text/plain": [
       "'Here are some name suggestions for your chicken filla business:\\n\\n1. Cluckin\\' Good: A playful name that combines the sound of a chicken with a positive adjective.\\n2. Fowl Play: A punny name that references the phrase \"foul play\" but replaces \"foul\" with \"fowl\" to tie it to chickens.\\n3. The Coop Kitchen: A name that references the idea of a chicken coop and adds a touch of warmth with the word \"kitchen\".\\n4. Chick-a-Dee\\'s: A cute and catchy name that references the sound of a chicken and has a fun, playful vibe.\\n5. Feather & Fill: A name that references the feathers of a chicken and pairs it with a word that references the filla (stuffed with meat).\\n6. Hatcher\\'s Delight: A name that references the idea of hatching eggs and adds a touch of whimsy with the word \"delight\".\\n7. The Chicken Shack: A name that references a casual, outdoor eatery and adds a touch of rustic charm.\\n8. Pecking Order: A name that references the social hierarchy of chickens and adds a touch of humor.\\n9. The Fowl Fix: A name that references the idea of satisfying your cravings and adds a touch of whimsy with the word \"fowl\".\\n10. Clucking Delicious: A name that combines the sound of a chicken with a positive adjective and adds a touch of warmth.\\n\\nI hope one of these suggestions sparks some inspiration for your business!'"
      ]
     },
     "execution_count": 30,
     "metadata": {},
     "output_type": "execute_result"
    }
   ],
   "source": [
    "chain.run(\"chicken filla\")"
   ]
  },
  {
   "cell_type": "code",
   "execution_count": 32,
   "metadata": {},
   "outputs": [],
   "source": [
    "prompt2=PromptTemplate(\n",
    "    input_variables=[\"name\"],\n",
    "    template=\"suggest some startegies for {name}\"\n",
    ")"
   ]
  },
  {
   "cell_type": "code",
   "execution_count": 51,
   "metadata": {},
   "outputs": [],
   "source": [
    "chain2=LLMChain(llm=llm,prompt=prompt2,output_key=\"strategies\")"
   ]
  },
  {
   "cell_type": "code",
   "execution_count": 33,
   "metadata": {},
   "outputs": [],
   "source": [
    "from langchain.chains import SimpleSequentialChain"
   ]
  },
  {
   "cell_type": "code",
   "execution_count": 37,
   "metadata": {},
   "outputs": [],
   "source": [
    "str_chain=SimpleSequentialChain(chains=[chain1,chain2])"
   ]
  },
  {
   "cell_type": "code",
   "execution_count": 39,
   "metadata": {},
   "outputs": [
    {
     "name": "stdout",
     "output_type": "stream",
     "text": [
      "I love the name suggestions! Now, let's dive into some strategies for your chicken filling business:\n",
      "\n",
      "**Marketing Strategies:**\n",
      "\n",
      "1. **Social Media:** Leverage Instagram and Facebook to showcase your products, share behind-the-scenes content, and engage with customers. Use hashtags like #foodie, #chickenfillings, and #homemade to attract attention.\n",
      "2. **Influencer Partnerships:** Reach out to local food bloggers, influencers, and chefs to collaborate and promote your products.\n",
      "3. **Farmers' Markets:** Participate in local farmers' markets to connect with customers, showcase your products, and build brand awareness.\n",
      "4. **Online Ordering and Delivery:** Offer online ordering and delivery options to cater to busy customers who want convenience.\n",
      "5. **Email Newsletter:** Create a newsletter to share recipes, promotions, and new products with subscribers.\n",
      "\n",
      "**Product Strategies:**\n",
      "\n",
      "1. **Initial Product Line:** Start with a limited product line, focusing on 3-5 signature fillings (e.g., Buffalo chicken, Mediterranean, and BBQ).\n",
      "2. **Seasonal and Limited-Time Offers:** Introduce seasonal and limited-time fillings to keep the product line fresh and exciting.\n",
      "3. **Customization:** Offer customization options, such as adding or subtracting ingredients, to cater to customers with dietary restrictions or preferences.\n",
      "4. **Product Pairings:** Develop pairing recommendations for your fillings, such as suggesting a specific bread or wrap for each flavor.\n",
      "5. **Collaborations:** Partner with local bakeries, restaurants, and food trucks to create exclusive fillings or promotions.\n",
      "\n",
      "**Operations Strategies:**\n",
      "\n",
      "1. **Supply Chain Management:** Establish relationships with local farmers and suppliers to source high-quality ingredients.\n",
      "2. **Efficient Production:** Optimize production processes to minimize waste and ensure consistent quality.\n",
      "3. **Staffing and Training:** Hire friendly, knowledgeable staff and provide comprehensive training on your products and services.\n",
      "4. **Inventory Management:** Implement an inventory management system to track stock levels and prevent overstocking or understocking.\n",
      "5. **Food Safety and Handling:** Prioritize food safety and handling procedures to ensure a clean and safe environment for customers.\n",
      "\n",
      "**Financial Strategies:**\n",
      "\n",
      "1. **Pricing:** Set competitive pricing for your products, considering the quality, uniqueness, and convenience of your fillings.\n",
      "2. **Discounts and Promotions:** Offer discounts, promotions, and loyalty programs to incentivize repeat customers and drive sales.\n",
      "3. **Budgeting:** Establish a budget for marketing, operations, and supplies to ensure sustainable growth.\n",
      "4. **Partnerships and Sponsorships:** Explore partnerships and sponsorships with local events, charities, or organizations to increase visibility and build goodwill.\n",
      "5. **Financial Planning:** Develop a comprehensive financial plan, including forecasting, budgeting, and financial reporting, to guide business decisions.\n",
      "\n",
      "**Growth Strategies:**\n",
      "\n",
      "1. **Expansion:** Expand your product line to include new fillings, sauces, or accompaniments.\n",
      "2. **New Markets:** Enter new markets, such as catering, events, or wholesale, to increase revenue streams.\n",
      "3. **Strategic Partnerships:** Form strategic partnerships with complementary businesses to expand reach and offerings.\n",
      "4. **Employee Growth:** Invest in employee training and development to promote from within and create a strong company culture.\n",
      "5. **Community Engagement:** Engage with the local community through events, sponsorships, and volunteer work to build brand loyalty and reputation.\n",
      "\n",
      "These strategies will help you establish a strong foundation for your chicken filling business. Remember to stay flexible and adapt to changing market conditions and customer preferences. Good luck!\n"
     ]
    }
   ],
   "source": [
    "print(str_chain.run(\"chicken Filla\").strip())"
   ]
  },
  {
   "cell_type": "markdown",
   "metadata": {},
   "source": [
    "AS you can see your missing the the output from 1 and input for 2 is the out put from chain1 output but we dont get the result\n",
    "\n",
    "\n",
    "\n",
    "\n",
    "now we are using Seqchain"
   ]
  },
  {
   "cell_type": "code",
   "execution_count": 54,
   "metadata": {},
   "outputs": [],
   "source": [
    "chain1 = LLMChain(llm=llm, prompt=prompt1, output_key=\"name\") \n",
    "chain2 = LLMChain(llm=llm, prompt=prompt2, output_key=\"strategies\") "
   ]
  },
  {
   "cell_type": "code",
   "execution_count": 48,
   "metadata": {},
   "outputs": [],
   "source": [
    "from langchain.chains import SequentialChain"
   ]
  },
  {
   "cell_type": "code",
   "execution_count": 55,
   "metadata": {},
   "outputs": [],
   "source": [
    "chain = SequentialChain(\n",
    "    chains=[chain1, chain2],\n",
    "    input_variables=[\"company\"],\n",
    "    output_variables=[\"name\", \"strategies\"]\n",
    ")"
   ]
  },
  {
   "cell_type": "code",
   "execution_count": 56,
   "metadata": {},
   "outputs": [
    {
     "name": "stderr",
     "output_type": "stream",
     "text": [
      "d:\\LangChain\\Chatbot\\chatbotLLm\\Lib\\site-packages\\langchain_core\\_api\\deprecation.py:119: LangChainDeprecationWarning: The method `Chain.__call__` was deprecated in langchain 0.1.0 and will be removed in 0.3.0. Use invoke instead.\n",
      "  warn_deprecated(\n"
     ]
    },
    {
     "data": {
      "text/plain": [
       "{'company': 'chicken_filla',\n",
       " 'name': 'What a unique and intriguing business idea! I\\'d be happy to help you come up with some name suggestions for your chicken filla business.\\n\\nHere are a few ideas to get you started:\\n\\n1. Cluckin\\' Filla: This name plays on the sound chickens make and incorporates the idea of filling, which is perfect for a business that serves fillings.\\n2. Fowl Play Filla: This name is a play on words, using \"fowl\" to refer to chickens and \"play\" to suggest a fun, casual atmosphere.\\n3. Chick-a-Dee Fillers: This name incorporates a common sound associated with chickens (the chick-a-dee call) and emphasizes the idea of filling.\\n4. Feathered Filla: This name highlights the fact that chickens are, well, feathered, and adds a touch of whimsy to the name.\\n5. The Coop Filla Co.: This name references the coop where chickens live, and adds a touch of professionalism with the \"Co.\" suffix.\\n6. Egg-cellent Fillers: This name incorporates a pun on the word \"excellent\" and references the fact that chickens lay eggs.\\n7. The Filla Flock: This name emphasizes the idea of a group or flock of chickens, and adds a touch of friendliness to the name.\\n8. Hoot & Cluck Fillers: This name incorporates a playful reference to the sounds chickens make, and adds a touch of whimsy to the name.\\n\\nI hope one of these suggestions sparks some inspiration for your business name!',\n",
       " 'strategies': \"Thank you for the suggestions! I'm excited to explore these ideas further. Here are some strategies to consider for my chicken filla business:\\n\\n**Target Market:**\\n\\n1. Health-conscious individuals: Focus on using fresh, organic ingredients and highlighting the nutritional benefits of chicken filla.\\n2. Busy professionals: Position the business as a convenient, quick-serve option for lunch or dinner.\\n3. Foodies: Emphasize the unique flavor combinations and creative filla options.\\n4. Families: Offer kid-friendly options and a welcoming atmosphere.\\n\\n**Marketing Strategies:**\\n\\n1. Social Media: Utilize Instagram and Facebook to showcase visually appealing filla creations, share behind-the-scenes content, and engage with customers.\\n2. Influencer Partnerships: Collaborate with local influencers, food bloggers, and social media personalities to promote the business.\\n3. Email Marketing: Offer loyalty programs, promotions, and exclusive deals to subscribers.\\n4. Local Events: Participate in food festivals, farmers' markets, and charity events to increase visibility and attract new customers.\\n\\n**Operations:**\\n\\n1. Menu Development: Offer a variety of filla options, including vegetarian and vegan choices, to cater to diverse tastes and dietary needs.\\n2. Supply Chain: Source high-quality, locally-sourced ingredients to ensure freshness and consistency.\\n3. Store Design: Create a welcoming atmosphere with a modern, industrial-chic design that reflects the brand's personality.\\n4. Employee Training: Provide comprehensive training to ensure staff are knowledgeable about the menu, ingredients, and customer service.\\n\\n**Brand Identity:**\\n\\n1. Logo: Develop a logo that incorporates a chicken or egg design, while also conveying a sense of freshness, quality, and fun.\\n2. Brand Voice: Establish a friendly, approachable tone that resonates with the target market.\\n3. Packaging: Design eye-catching, eco-friendly packaging that reflects the brand's personality and values.\\n\\n**Financial Strategies:**\\n\\n1. Pricing: Set competitive prices that balance profitability with customer affordability.\\n2. Menu Engineering: Analyze menu items to optimize pricing, profit margins, and customer demand.\\n3. Inventory Management: Implement a system to track inventory levels, reduce waste, and minimize costs.\\n4. Partnerships: Explore opportunities for partnerships with local businesses, event planners, and catering services to increase revenue streams.\\n\\nThese are just some ideas to get started. I'd love to hear your thoughts and feedback on these strategies!\"}"
      ]
     },
     "execution_count": 56,
     "metadata": {},
     "output_type": "execute_result"
    }
   ],
   "source": [
    "chain({\"company\":\"chicken_filla\"})"
   ]
  }
 ],
 "metadata": {
  "kernelspec": {
   "display_name": "Python 3",
   "language": "python",
   "name": "python3"
  },
  "language_info": {
   "codemirror_mode": {
    "name": "ipython",
    "version": 3
   },
   "file_extension": ".py",
   "mimetype": "text/x-python",
   "name": "python",
   "nbconvert_exporter": "python",
   "pygments_lexer": "ipython3",
   "version": "3.12.0"
  }
 },
 "nbformat": 4,
 "nbformat_minor": 2
}
