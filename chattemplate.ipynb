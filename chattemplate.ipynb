{
 "cells": [
  {
   "cell_type": "code",
   "execution_count": 1,
   "metadata": {},
   "outputs": [],
   "source": [
    "import streamlit as st\n",
    "from langchain_groq import ChatGroq\n",
    "from langchain_core.prompts import ChatPromptTemplate\n",
    "\n",
    "from langchain.prompts import PromptTemplate\n",
    "from langchain import LLMChain\n",
    "import os\n",
    "\n",
    "# Load environment variables\n",
    "\n",
    "\n",
    "# Replace this with your actual Groq API key or use environment variable\n",
    "groq_api_key = \"\"\n",
    "\n",
    "# Define the ChatTemplate for extracting names\n",
    "\n",
    "template=\"\"\"\n",
    " your an expert upwork top seller.\n",
    "    \n",
    "    {query}\n",
    "    \n",
    "  \n",
    "\"\"\"\n",
    "prompt=PromptTemplate.from_template(template)\n"
   ]
  },
  {
   "cell_type": "code",
   "execution_count": 2,
   "metadata": {},
   "outputs": [],
   "source": [
    "llm = ChatGroq(\n",
    "    groq_api_key=groq_api_key,\n",
    "    model_name=\"Llama3-8b-8192\"\n",
    ")\n",
    "\n"
   ]
  },
  {
   "cell_type": "code",
   "execution_count": 3,
   "metadata": {},
   "outputs": [
    {
     "data": {
      "text/plain": [
       "'\\n your an expert upwork top seller.\\n    \\n    How to get my first client\\n    \\n  \\n'"
      ]
     },
     "execution_count": 3,
     "metadata": {},
     "output_type": "execute_result"
    }
   ],
   "source": [
    "prompt.format(query=\"How to get my first client\")"
   ]
  },
  {
   "cell_type": "code",
   "execution_count": 7,
   "metadata": {},
   "outputs": [],
   "source": [
    "template = \"\"\"\n",
    "You are an expert {platform} top seller.\n",
    "{query}\n",
    "\"\"\""
   ]
  },
  {
   "cell_type": "code",
   "execution_count": 9,
   "metadata": {},
   "outputs": [],
   "source": [
    "# Create a prompt template instance\n",
    "prompt = PromptTemplate(input_variables=[\"platform\", \"query\"], template=template)\n",
    "\n",
    "# Initialize the language model (LLM)\n",
    "llm = ChatGroq(groq_api_key=groq_api_key, model_name=\"Llama3-8b-8192\")\n",
    "\n",
    "# Create an LLMChain instance combining the prompt and LLM\n",
    "llm_chain = LLMChain(llm=llm, prompt=prompt)"
   ]
  },
  {
   "cell_type": "code",
   "execution_count": 12,
   "metadata": {},
   "outputs": [],
   "source": [
    "# Example values for platform and query\n",
    "platform = \"upwork\"\n",
    "query = \"How to get my first client\"\n",
    "\n",
    "# Execute the chain with the provided values\n",
    "result = llm_chain.run({\"platform\": \"fiver\", \"query\": query})"
   ]
  },
  {
   "cell_type": "code",
   "execution_count": 13,
   "metadata": {},
   "outputs": [
    {
     "name": "stdout",
     "output_type": "stream",
     "text": [
      "Congratulations on taking the first step towards building your freelance business! Getting your first client can be a challenging but crucial milestone. As an expert fiver top seller, I'm happy to share some strategies that worked for me and many other freelancers:\n",
      "\n",
      "1. **Complete your Fiverr profile**: Make sure your profile is professional, complete, and showcases your skills and expertise. This is often the first impression potential clients have of you, so make it count!\n",
      "2. **Develop a strong portfolio**: Create a portfolio that demonstrates your work and showcases your best projects. This will help potential clients see your skills in action and build trust.\n",
      "3. **Optimize your gig**: Write a compelling gig description, highlight your unique selling points, and make sure your gig is easy to find by using relevant keywords.\n",
      "4. **Offer competitive pricing**: Research your competition and price your services competitively. Remember, you can always adjust your pricing as you gain more experience and build a reputation.\n",
      "5. **Provide exceptional customer service**: Fiverr's customer support team is always on the lookout for top-rated sellers who provide outstanding service. Focus on delivering high-quality work, responding promptly to messages, and going above and beyond for your clients.\n",
      "6. **Leverage social media and online platforms**: Share your gig on social media platforms like Facebook, Twitter, and LinkedIn. You can also join online communities, forums, and groups related to your niche to connect with potential clients and promote your services.\n",
      "7. **Network and collaborate**: Reach out to other freelancers in your niche and collaborate on projects or refer clients to each other. This can help you build relationships and get your foot in the door.\n",
      "8. **Offer a free trial or consultation**: Offering a free trial or consultation can help potential clients get a taste of your work and build trust. This can also be a great way to showcase your skills and demonstrate your value.\n",
      "9. **Be proactive and persistent**: Don't be discouraged by rejections or lack of responses. Keep applying your marketing strategies, and eventually, you'll land your first client.\n",
      "10. **Follow up**: If you've applied for a gig or sent a proposal, follow up with the client to show your enthusiasm and professionalism. This can help keep you top of mind and increase your chances of landing the job.\n",
      "\n",
      "Some additional tips that worked for me:\n",
      "\n",
      "* **Specialize in a niche**: Focus on a specific area of expertise to stand out and attract clients who are looking for those specific skills.\n",
      "* **Offer add-ons and upsells**: Provide additional services or upgrades to increase your earnings and provide more value to your clients.\n",
      "* **Use Fiverr's promotional tools**: Fiverr offers various promotional tools, such as Pro Tips and Boosts, to help you increase your visibility and attract more clients.\n",
      "\n",
      "Remember, getting your first client is just the beginning. Focus on delivering exceptional service, building a strong reputation, and continually improving your skills to attract more clients and grow your freelance business. Good luck!\n"
     ]
    }
   ],
   "source": [
    "print(result)"
   ]
  },
  {
   "cell_type": "markdown",
   "metadata": {},
   "source": [
    "Trying different examples"
   ]
  },
  {
   "cell_type": "code",
   "execution_count": 14,
   "metadata": {},
   "outputs": [],
   "source": [
    "template=\"\"\"\n",
    "Your an  expert nutritionist.\n",
    "{query} \n",
    "\n",
    "\n",
    "\n",
    "\"\"\""
   ]
  },
  {
   "cell_type": "code",
   "execution_count": 16,
   "metadata": {},
   "outputs": [],
   "source": [
    "prompt = PromptTemplate(input_variables=[\"query\"], template=template)"
   ]
  },
  {
   "cell_type": "code",
   "execution_count": 18,
   "metadata": {},
   "outputs": [],
   "source": [
    "query=\"my weight is 57kg base my height is 5.85 ft  i want to gain weight to 62kg in 1 month im eating aprox like 1700 cal aily with workout \"\n",
    "llm_chain = LLMChain(llm=llm, prompt=prompt)\n",
    "result = llm_chain.run({\"query\": query})"
   ]
  },
  {
   "cell_type": "code",
   "execution_count": 19,
   "metadata": {},
   "outputs": [
    {
     "data": {
      "text/plain": [
       "'Thank you for sharing your information! As an expert nutritionist, I\\'d be happy to help you achieve your goal of gaining weight to 62kg in a month.\\n\\nFirst, let\\'s break down your current calorie intake and activity level:\\n\\n* Current weight: 57kg\\n* Height: 5\\'8.5\" (175.3 cm)\\n* Daily calorie intake: approximately 1700 calories\\n* Workout frequency/ intensity: You didn\\'t specify the type or duration of your workouts, but I\\'ll assume it\\'s moderate to high-intensity exercise.\\n\\nTo gain weight, you\\'ll need to increase your daily calorie intake. A safe and sustainable rate of weight gain is 0.5-1 kg per week, which translates to an additional 250-500 calories per day.\\n\\nBased on your current calorie intake and activity level, I recommend increasing your daily calorie intake to around 2200-2400 calories. This will provide your body with the necessary energy to support muscle growth and weight gain.\\n\\nHere\\'s a sample meal plan to help you achieve your calorie goal:\\n\\n**Breakfast**\\n\\n* 2 whole eggs (140 calories)\\n* 2 egg whites (140 calories)\\n* 1 cup cooked oatmeal with sliced banana and almond butter (250 calories)\\n* 1 cup mixed berries (60 calories)\\n\\nTotal calories: 590 calories\\n\\n**Mid-morning Snack**\\n\\n* 1 medium apple (95 calories)\\n* 1 tablespoon almond butter (100 calories)\\n\\nTotal calories: 195 calories\\n\\n**Lunch**\\n\\n* 4 oz grilled chicken breast (120 calories)\\n* 1 cup cooked brown rice (110 calories)\\n* 1 cup steamed broccoli (55 calories)\\n* 1 tablespoon olive oil (120 calories)\\n\\nTotal calories: 405 calories\\n\\n**Mid-afternoon Snack**\\n\\n* 1 cup Greek yogurt (100 calories)\\n* 1/2 cup mixed nuts (100 calories)\\n* 1 medium pear (62 calories)\\n\\nTotal calories: 262 calories\\n\\n**Dinner**\\n\\n* 6 oz grilled salmon (210 calories)\\n* 1 cup cooked quinoa (150 calories)\\n* 1 cup sautéed spinach with garlic and olive oil (60 calories)\\n* 1 medium avocado (140 calories)\\n\\nTotal calories: 560 calories\\n\\n**Before Bed Snack**\\n\\n* 1 scoop whey protein powder mixed with 8 oz whole milk (150 calories)\\n* 1 medium banana (90 calories)\\n\\nTotal calories: 240 calories\\n\\nTotal daily calories: 2342 calories\\n\\nThis meal plan provides a balanced mix of protein, complex carbohydrates, and healthy fats to support muscle growth and weight gain. Make sure to stay hydrated by drinking plenty of water throughout the day.\\n\\nIn addition to the meal plan, I recommend the following:\\n\\n* Increase your calorie intake gradually over the next week or two to avoid discomfort and digestive issues.\\n* Focus on compound exercises like squats, deadlifts, and bench press to build muscle mass.\\n* Consider adding weight or resistance to your workouts to challenge your muscles and promote growth.\\n* Aim for 7-9 hours of sleep per night to support muscle recovery and growth.\\n\\nMonitor your progress and adjust your calorie intake and workout routine as needed. It\\'s also essential to consult with a healthcare professional or registered dietitian to ensure you\\'re meeting your nutritional needs and avoiding any potential health risks.\\n\\nRemember, gaining weight in a healthy and sustainable manner takes time, patience, and consistency. Stay committed to your goals, and you\\'ll be on your way to reaching your target weight in no time!'"
      ]
     },
     "execution_count": 19,
     "metadata": {},
     "output_type": "execute_result"
    }
   ],
   "source": [
    "result"
   ]
  },
  {
   "cell_type": "code",
   "execution_count": null,
   "metadata": {},
   "outputs": [],
   "source": []
  }
 ],
 "metadata": {
  "kernelspec": {
   "display_name": "Python 3",
   "language": "python",
   "name": "python3"
  },
  "language_info": {
   "codemirror_mode": {
    "name": "ipython",
    "version": 3
   },
   "file_extension": ".py",
   "mimetype": "text/x-python",
   "name": "python",
   "nbconvert_exporter": "python",
   "pygments_lexer": "ipython3",
   "version": "3.12.0"
  }
 },
 "nbformat": 4,
 "nbformat_minor": 2
}
